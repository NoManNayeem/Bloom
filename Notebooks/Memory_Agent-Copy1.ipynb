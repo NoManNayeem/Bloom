{
 "cells": [
  {
   "cell_type": "markdown",
   "id": "7a6af858-4ed2-4f44-b026-fd21992b269d",
   "metadata": {},
   "source": [
    "# Install"
   ]
  },
  {
   "cell_type": "code",
   "execution_count": 2,
   "id": "7e469ab3-fe00-41a0-a5aa-5f3cd4e1f580",
   "metadata": {},
   "outputs": [],
   "source": [
    "# ! pip install -U agno\n",
    "# ! pip install -U  python-dotenv rich\n",
    "# ! pip install -U openai groq\n",
    "# ! pip install sqlalchemy\n",
    "# stop"
   ]
  },
  {
   "cell_type": "markdown",
   "id": "98d4d536-3a18-4c3b-89c7-5317650c9e4a",
   "metadata": {},
   "source": [
    "# Load Secrets"
   ]
  },
  {
   "cell_type": "code",
   "execution_count": 4,
   "id": "bc010e10-cc63-4f0e-90da-c9f1596acf8d",
   "metadata": {},
   "outputs": [
    {
     "name": "stdout",
     "output_type": "stream",
     "text": [
      "OpenAI API Key: True\n",
      "Gro API Key: True\n"
     ]
    }
   ],
   "source": [
    "# Import necessary libraries\n",
    "from dotenv import load_dotenv\n",
    "import os\n",
    "\n",
    "# Load the environment variables from the .env file\n",
    "load_dotenv()\n",
    "\n",
    "# Access the API keys from the environment variables\n",
    "openai_api_key = os.getenv('OPENAI_API_KEY')\n",
    "gro_api_key = os.getenv('Groq_API_KEY')\n",
    "\n",
    "# Print the keys (optional, for testing purposes)\n",
    "print(f\"OpenAI API Key: {bool(openai_api_key)}\")\n",
    "print(f\"Gro API Key: {bool(gro_api_key)}\")\n"
   ]
  },
  {
   "cell_type": "markdown",
   "id": "0839cc3b-166f-4b3c-8c8f-f141f55f45c4",
   "metadata": {},
   "source": [
    "# Question and Answer"
   ]
  },
  {
   "cell_type": "code",
   "execution_count": 6,
   "id": "fc4a68b8-601b-4423-9245-e577da988da2",
   "metadata": {},
   "outputs": [],
   "source": [
    "qa_data = [\n",
    "  # {\n",
    "  #   \"question\": \"Share a childhood memory you have.\",\n",
    "  #   \"answer\": \"I remember playing hide and seek with my friends in the backyard. I always loved being the seeker because it gave me control over the game.\"\n",
    "  # },\n",
    "  {\n",
    "    \"question\": \"Describe a time when you took a risk.\",\n",
    "    \"answer\": \"I once decided to move to a new city alone for a job opportunity, not knowing anyone there. It felt terrifying but it paid off in the end.\"\n",
    "  },\n",
    "  # {\n",
    "  #   \"question\": \"What motivates you to get out of bed every day?\",\n",
    "  #   \"answer\": \"I get motivated by the thought of new opportunities to learn and grow. Whether it's a new project or an exciting challenge, I thrive on being productive.\"\n",
    "  # },\n",
    "  # {\n",
    "  #   \"question\": \"How do you handle failure?\",\n",
    "  #   \"answer\": \"I treat failure as a learning opportunity. Instead of feeling discouraged, I analyze what went wrong and try to improve next time.\"\n",
    "  # },\n",
    "  # {\n",
    "  #   \"question\": \"What is one of your proudest achievements?\",\n",
    "  #   \"answer\": \"Completing a marathon after months of intense training. It taught me the importance of perseverance and setting clear goals.\"\n",
    "  # },\n",
    "  # {\n",
    "  #   \"question\": \"How would you describe your ideal weekend?\",\n",
    "  #   \"answer\": \"My ideal weekend involves a balance of relaxation and adventure—maybe a hike in the mountains or reading a good book by the beach.\"\n",
    "  # },\n",
    "  # {\n",
    "  #   \"question\": \"Can you think of a moment when you had to lead a team?\",\n",
    "  #   \"answer\": \"I led a project at work where I had to coordinate a team of five people. It was challenging at first, but by encouraging open communication, we managed to complete the project ahead of schedule.\"\n",
    "  # },\n",
    "  # {\n",
    "  #   \"question\": \"How do you deal with stressful situations?\",\n",
    "  #   \"answer\": \"I stay calm and try to focus on solving the problem at hand. If needed, I take a short break to reset my mind before tackling the issue.\"\n",
    "  # },\n",
    "  # {\n",
    "  #   \"question\": \"If you could change one thing about yourself, what would it be?\",\n",
    "  #   \"answer\": \"I would work on being more patient with others, especially in situations that are beyond their control. I tend to be impatient at times.\"\n",
    "  # },\n",
    "  # {\n",
    "  #   \"question\": \"Describe your perfect day.\",\n",
    "  #   \"answer\": \"A perfect day would start with a peaceful morning walk, followed by a productive workday, and ending with dinner with close friends, laughing and sharing stories.\"\n",
    "  # }\n",
    "]\n"
   ]
  },
  {
   "cell_type": "markdown",
   "id": "46f76652-f46f-46a4-8219-721cc4901861",
   "metadata": {},
   "source": [
    "# OpenAI Agents"
   ]
  },
  {
   "cell_type": "code",
   "execution_count": 8,
   "id": "1a3a4578-306a-4e00-a49e-4c8d4b07266b",
   "metadata": {},
   "outputs": [],
   "source": [
    "from agno.agent import Agent\n",
    "from agno.models.openai import OpenAIChat\n",
    "from agno.models.groq import Groq\n",
    "from pydantic import BaseModel, Field\n",
    "import pandas as pd"
   ]
  },
  {
   "cell_type": "code",
   "execution_count": 9,
   "id": "e276adf8-90d5-4392-9cca-937b3094886c",
   "metadata": {},
   "outputs": [],
   "source": [
    "from pydantic import BaseModel, Field\n",
    "from typing import Dict\n",
    "\n",
    "class PersonalityTraits(BaseModel):\n",
    "    positive: Dict[str, int] = Field(..., description=\"Positive personality traits with values from 0 to 100\")\n",
    "    negative: Dict[str, int] = Field(..., description=\"Negative personality traits with values from 0 to 100\")\n",
    "    quote: str = Field(..., description=\"A motivational or descriptive quote based on the analysis\")\n"
   ]
  },
  {
   "cell_type": "code",
   "execution_count": 10,
   "id": "bde8e243-ead8-4cbd-ac12-8382fbefc1f0",
   "metadata": {},
   "outputs": [],
   "source": [
    "# Create an OpenAI agent with PersonalityTraits response model\n",
    "openai_agent = Agent(\n",
    "    model=OpenAIChat(id=\"gpt-4o\"),\n",
    "    response_model=PersonalityTraits,\n",
    "    markdown=True\n",
    ")\n",
    "\n",
    "\n",
    "# Function to generate personality traits using OpenAI\n",
    "def get_openai_response(question, answer):\n",
    "    task = f\"Question: {question}\\nAnswer: {answer}\\n\\nGenerate the following output: Positive: Confidence: 78%, Bravery: 45%, ...\\nNegative: Fear: 12%, Insecurity: 6%\\nQuote: 'You are a lone army in a jungle to rule.'\"\n",
    "    response = openai_agent.run(task)\n",
    "    return response.content\n",
    "\n",
    "# Collect OpenAI responses in a DataFrame\n",
    "responses = []\n",
    "for qa in qa_data:\n",
    "    openai_response = get_openai_response(qa[\"question\"], qa[\"answer\"])\n",
    "    responses.append({\n",
    "        \"question\": qa[\"question\"],\n",
    "        \"answer\": qa[\"answer\"],\n",
    "        \"openai_response\": openai_response\n",
    "    })\n",
    "\n",
    "# Store responses in a DataFrame\n",
    "openai_df = pd.DataFrame(responses)"
   ]
  },
  {
   "cell_type": "code",
   "execution_count": 11,
   "id": "ac4c9c7e-ceba-4917-b8b9-4640018db3dd",
   "metadata": {},
   "outputs": [
    {
     "data": {
      "text/html": [
       "<div>\n",
       "<style scoped>\n",
       "    .dataframe tbody tr th:only-of-type {\n",
       "        vertical-align: middle;\n",
       "    }\n",
       "\n",
       "    .dataframe tbody tr th {\n",
       "        vertical-align: top;\n",
       "    }\n",
       "\n",
       "    .dataframe thead th {\n",
       "        text-align: right;\n",
       "    }\n",
       "</style>\n",
       "<table border=\"1\" class=\"dataframe\">\n",
       "  <thead>\n",
       "    <tr style=\"text-align: right;\">\n",
       "      <th></th>\n",
       "      <th>question</th>\n",
       "      <th>answer</th>\n",
       "      <th>openai_response</th>\n",
       "    </tr>\n",
       "  </thead>\n",
       "  <tbody>\n",
       "    <tr>\n",
       "      <th>0</th>\n",
       "      <td>Describe a time when you took a risk.</td>\n",
       "      <td>I once decided to move to a new city alone for...</td>\n",
       "      <td>positive={'Confidence': 80, 'Bravery': 55, 'Bo...</td>\n",
       "    </tr>\n",
       "  </tbody>\n",
       "</table>\n",
       "</div>"
      ],
      "text/plain": [
       "                                question  \\\n",
       "0  Describe a time when you took a risk.   \n",
       "\n",
       "                                              answer  \\\n",
       "0  I once decided to move to a new city alone for...   \n",
       "\n",
       "                                     openai_response  \n",
       "0  positive={'Confidence': 80, 'Bravery': 55, 'Bo...  "
      ]
     },
     "execution_count": 11,
     "metadata": {},
     "output_type": "execute_result"
    }
   ],
   "source": [
    "openai_df"
   ]
  },
  {
   "cell_type": "code",
   "execution_count": 12,
   "id": "249a9107-a250-416c-ba52-f3da76844dea",
   "metadata": {},
   "outputs": [
    {
     "data": {
      "text/markdown": [
       "\n",
       "### **Question:**\n",
       "**Describe a time when you took a risk.**\n",
       "\n",
       "---\n",
       "\n",
       "### **Answer:**\n",
       "I once decided to move to a new city alone for a job opportunity, not knowing anyone there. It felt terrifying but it paid off in the end.\n",
       "\n",
       "---\n",
       "\n",
       "### **OpenAI Response:**\n",
       "\n",
       "| Trait            | Value (0-100) |\n",
       "|------------------|---------------|\n",
       "| **Confidence** | 80 |\n",
       "| **Bravery** | 55 |\n",
       "| **Boldness** | 67 |\n",
       "| **Independence** | 72 |\n",
       "| **Adaptability** | 75 |\n",
       "| **Fear** | 15 |\n",
       "| **Insecurity** | 8 |\n",
       "| **Anxiety** | 10 |\n",
       "| **Reservation** | 5 |\n",
       "\n",
       "---\n",
       "\n",
       "### **Quote:**\n",
       "*\"\"Fortune favors the bold, especially when they brave the unknown.\"\"*\n",
       "\n",
       "---\n"
      ],
      "text/plain": [
       "<IPython.core.display.Markdown object>"
      ]
     },
     "metadata": {},
     "output_type": "display_data"
    }
   ],
   "source": [
    "from IPython.display import display, Markdown\n",
    "\n",
    "# Iterate over the rows to display OpenAI responses in a table format using Markdown\n",
    "for index, row in openai_df.iterrows():\n",
    "    # Access the positive and negative traits and format them as key-value pairs\n",
    "    positive_traits = \"\\n\".join([f\"**{k}**: {v}\" for k, v in row['openai_response'].positive.items()])\n",
    "    negative_traits = \"\\n\".join([f\"**{k}**: {v}\" for k, v in row['openai_response'].negative.items()])\n",
    "    \n",
    "    markdown_output = f\"\"\"\n",
    "### **Question:**\n",
    "**{row['question']}**\n",
    "\n",
    "---\n",
    "\n",
    "### **Answer:**\n",
    "{row['answer']}\n",
    "\n",
    "---\n",
    "\n",
    "### **OpenAI Response:**\n",
    "\n",
    "| Trait            | Value (0-100) |\n",
    "|------------------|---------------|\n",
    "\"\"\"\n",
    "    # Add positive traits to the table\n",
    "    for trait, value in row['openai_response'].positive.items():\n",
    "        markdown_output += f\"| **{trait}** | {value} |\\n\"\n",
    "    \n",
    "    # Add negative traits to the table\n",
    "    for trait, value in row['openai_response'].negative.items():\n",
    "        markdown_output += f\"| **{trait}** | {value} |\\n\"\n",
    "\n",
    "    markdown_output += f\"\"\"\n",
    "---\n",
    "\n",
    "### **Quote:**\n",
    "*\"{row['openai_response'].quote}\"*\n",
    "\n",
    "---\n",
    "\"\"\"  # Adds nice spacing and clear sections\n",
    "    display(Markdown(markdown_output))\n",
    "\n"
   ]
  },
  {
   "cell_type": "markdown",
   "id": "2127b4ce-1e7a-4947-a95f-a5de5724c1d7",
   "metadata": {},
   "source": [
    "# Groq Agent"
   ]
  },
  {
   "cell_type": "code",
   "execution_count": 14,
   "id": "bc54f9c9-3aec-49dc-95a3-e151c59e0010",
   "metadata": {},
   "outputs": [
    {
     "data": {
      "text/html": [
       "<div>\n",
       "<style scoped>\n",
       "    .dataframe tbody tr th:only-of-type {\n",
       "        vertical-align: middle;\n",
       "    }\n",
       "\n",
       "    .dataframe tbody tr th {\n",
       "        vertical-align: top;\n",
       "    }\n",
       "\n",
       "    .dataframe thead th {\n",
       "        text-align: right;\n",
       "    }\n",
       "</style>\n",
       "<table border=\"1\" class=\"dataframe\">\n",
       "  <thead>\n",
       "    <tr style=\"text-align: right;\">\n",
       "      <th></th>\n",
       "      <th>question</th>\n",
       "      <th>answer</th>\n",
       "      <th>groq_response</th>\n",
       "    </tr>\n",
       "  </thead>\n",
       "  <tbody>\n",
       "    <tr>\n",
       "      <th>0</th>\n",
       "      <td>Describe a time when you took a risk.</td>\n",
       "      <td>I once decided to move to a new city alone for...</td>\n",
       "      <td>positive={'Confidence': 78, 'Bravery': 45, 'Ad...</td>\n",
       "    </tr>\n",
       "  </tbody>\n",
       "</table>\n",
       "</div>"
      ],
      "text/plain": [
       "                                question  \\\n",
       "0  Describe a time when you took a risk.   \n",
       "\n",
       "                                              answer  \\\n",
       "0  I once decided to move to a new city alone for...   \n",
       "\n",
       "                                       groq_response  \n",
       "0  positive={'Confidence': 78, 'Bravery': 45, 'Ad...  "
      ]
     },
     "execution_count": 14,
     "metadata": {},
     "output_type": "execute_result"
    }
   ],
   "source": [
    "# Create a Groq agent with PersonalityTraits response model\n",
    "groq_agent = Agent(\n",
    "    model=Groq(id=\"llama-3.3-70b-versatile\"),\n",
    "    response_model=PersonalityTraits,\n",
    "    markdown=True\n",
    ")\n",
    "\n",
    "# Function to generate personality traits using Groq\n",
    "def get_groq_response(question, answer):\n",
    "    task = f\"Question: {question}\\nAnswer: {answer}\\n\\nGenerate the following output: Positive: Confidence: 78%, Bravery: 45%, ...\\nNegative: Fear: 12%, Insecurity: 6%\\nQuote: 'You are a lone army in a jungle to rule.'\"\n",
    "    response = groq_agent.run(task)\n",
    "    return response.content\n",
    "\n",
    "# Collect Groq responses in a DataFrame\n",
    "responses = []\n",
    "for qa in qa_data:\n",
    "    groq_response = get_groq_response(qa[\"question\"], qa[\"answer\"])\n",
    "    responses.append({\n",
    "        \"question\": qa[\"question\"],\n",
    "        \"answer\": qa[\"answer\"],\n",
    "        \"groq_response\": groq_response\n",
    "    })\n",
    "\n",
    "# Store responses in a DataFrame\n",
    "groq_df = pd.DataFrame(responses)\n",
    "groq_df\n"
   ]
  },
  {
   "cell_type": "code",
   "execution_count": 15,
   "id": "970bfb38-ef4a-487c-a050-2ad2c73da372",
   "metadata": {},
   "outputs": [
    {
     "data": {
      "text/markdown": [
       "\n",
       "### **Question:**\n",
       "**Describe a time when you took a risk.**\n",
       "\n",
       "---\n",
       "\n",
       "### **Answer:**\n",
       "I once decided to move to a new city alone for a job opportunity, not knowing anyone there. It felt terrifying but it paid off in the end.\n",
       "\n",
       "---\n",
       "\n",
       "### **Groq Response:**\n",
       "\n",
       "| Trait            | Value (0-100) |\n",
       "|------------------|---------------|\n",
       "| **Confidence** | 78 |\n",
       "| **Bravery** | 45 |\n",
       "| **Adventurousness** | 67 |\n",
       "| **Resilience** | 82 |\n",
       "| **Fear** | 12 |\n",
       "| **Insecurity** | 6 |\n",
       "| **Anxiety** | 8 |\n",
       "\n",
       "---\n",
       "\n",
       "### **Quote:**\n",
       "*\"You are a lone army in a jungle to rule.\"*\n",
       "\n",
       "---\n"
      ],
      "text/plain": [
       "<IPython.core.display.Markdown object>"
      ]
     },
     "metadata": {},
     "output_type": "display_data"
    }
   ],
   "source": [
    "# Iterate over the rows to display Groq responses in a table format using Markdown\n",
    "for index, row in groq_df.iterrows():\n",
    "    # Access the positive and negative traits and format them as key-value pairs\n",
    "    positive_traits = \"\\n\".join([f\"**{k}**: {v}\" for k, v in row['groq_response'].positive.items()])\n",
    "    negative_traits = \"\\n\".join([f\"**{k}**: {v}\" for k, v in row['groq_response'].negative.items()])\n",
    "    \n",
    "    markdown_output = f\"\"\"\n",
    "### **Question:**\n",
    "**{row['question']}**\n",
    "\n",
    "---\n",
    "\n",
    "### **Answer:**\n",
    "{row['answer']}\n",
    "\n",
    "---\n",
    "\n",
    "### **Groq Response:**\n",
    "\n",
    "| Trait            | Value (0-100) |\n",
    "|------------------|---------------|\n",
    "\"\"\"\n",
    "    # Add positive traits to the table\n",
    "    for trait, value in row['groq_response'].positive.items():\n",
    "        markdown_output += f\"| **{trait}** | {value} |\\n\"\n",
    "    \n",
    "    # Add negative traits to the table\n",
    "    for trait, value in row['groq_response'].negative.items():\n",
    "        markdown_output += f\"| **{trait}** | {value} |\\n\"\n",
    "\n",
    "    markdown_output += f\"\"\"\n",
    "---\n",
    "\n",
    "### **Quote:**\n",
    "*\"{row['groq_response'].quote}\"*\n",
    "\n",
    "---\n",
    "\"\"\"  # Adds nice spacing and clear sections\n",
    "    display(Markdown(markdown_output))\n"
   ]
  }
 ],
 "metadata": {
  "kernelspec": {
   "display_name": "Python 3 (ipykernel)",
   "language": "python",
   "name": "python3"
  },
  "language_info": {
   "codemirror_mode": {
    "name": "ipython",
    "version": 3
   },
   "file_extension": ".py",
   "mimetype": "text/x-python",
   "name": "python",
   "nbconvert_exporter": "python",
   "pygments_lexer": "ipython3",
   "version": "3.12.7"
  }
 },
 "nbformat": 4,
 "nbformat_minor": 5
}
